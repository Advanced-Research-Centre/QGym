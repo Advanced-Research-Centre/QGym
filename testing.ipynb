{
 "cells": [
  {
   "cell_type": "code",
   "execution_count": 1,
   "id": "541e04d8",
   "metadata": {},
   "outputs": [
    {
     "name": "stdout",
     "output_type": "stream",
     "text": [
      "Requirement already satisfied: gymnasium in /home/kknopp/Documents/Work/QWorld/env/lib/python3.11/site-packages (0.28.1)\n",
      "Requirement already satisfied: numpy>=1.21.0 in /home/kknopp/Documents/Work/QWorld/env/lib/python3.11/site-packages (from gymnasium) (1.23.5)\n",
      "Requirement already satisfied: jax-jumpy>=1.0.0 in /home/kknopp/Documents/Work/QWorld/env/lib/python3.11/site-packages (from gymnasium) (1.0.0)\n",
      "Requirement already satisfied: cloudpickle>=1.2.0 in /home/kknopp/Documents/Work/QWorld/env/lib/python3.11/site-packages (from gymnasium) (2.2.1)\n",
      "Requirement already satisfied: typing-extensions>=4.3.0 in /home/kknopp/Documents/Work/QWorld/env/lib/python3.11/site-packages (from gymnasium) (4.7.1)\n",
      "Requirement already satisfied: farama-notifications>=0.0.1 in /home/kknopp/Documents/Work/QWorld/env/lib/python3.11/site-packages (from gymnasium) (0.0.4)\n",
      "\n",
      "\u001b[1m[\u001b[0m\u001b[34;49mnotice\u001b[0m\u001b[1;39;49m]\u001b[0m\u001b[39;49m A new release of pip available: \u001b[0m\u001b[31;49m22.3.1\u001b[0m\u001b[39;49m -> \u001b[0m\u001b[32;49m23.1.2\u001b[0m\n",
      "\u001b[1m[\u001b[0m\u001b[34;49mnotice\u001b[0m\u001b[1;39;49m]\u001b[0m\u001b[39;49m To update, run: \u001b[0m\u001b[32;49mpip install --upgrade pip\u001b[0m\n"
     ]
    }
   ],
   "source": [
    "!pip3 install gymnasium"
   ]
  },
  {
   "cell_type": "code",
   "execution_count": 2,
   "id": "a31f2830",
   "metadata": {},
   "outputs": [
    {
     "data": {
      "image/png": "[encoded data removed]",
      "text/plain": [
       "<Figure size 185.453x117.056 with 1 Axes>"
      ]
     },
     "execution_count": 2,
     "metadata": {},
     "output_type": "execute_result"
    }
   ],
   "source": [
    "from qiskit import QuantumCircuit, Aer\n",
    "from qiskit.quantum_info import Statevector\n",
    "from qiskit.circuit.library import XGate, YGate, ZGate, HGate, SGate, TGate, IGate\n",
    "import gymnasium as gym\n",
    "from gymnasium import spaces\n",
    "c = QuantumCircuit(1)\n",
    "c.h(0)\n",
    "c.draw(output='mpl')"
   ]
  },
  {
   "cell_type": "code",
   "execution_count": 3,
   "id": "6cc7059d",
   "metadata": {},
   "outputs": [],
   "source": [
    "def get_score(circuit):\n",
    "    sim = Aer.get_backend('statevector_simulator')\n",
    "    result = sim.run(c, shots=1).result().get_statevector()\n",
    "    return Statevector(result).probabilities()[1]"
   ]
  },
  {
   "cell_type": "code",
   "execution_count": 4,
   "id": "81277ed0",
   "metadata": {},
   "outputs": [
    {
     "data": {
      "text/plain": [
       "0.4999999999999999"
      ]
     },
     "execution_count": 4,
     "metadata": {},
     "output_type": "execute_result"
    }
   ],
   "source": [
    "get_score(c)"
   ]
  },
  {
   "cell_type": "code",
   "execution_count": 5,
   "id": "c98aadde",
   "metadata": {},
   "outputs": [],
   "source": [
    "class QiskitEnv(gym.Env):\n",
    "    def __init__(self, size=1):\n",
    "        self.size = size  # The size of the circuit\n",
    "        self.circuit = QuantumCircuit(self.size)\n",
    "\n",
    "        # We have 4 different gates\n",
    "        self.action_space = spaces.Discrete(4)\n",
    "\n",
    "        self._action_to_direction = {\n",
    "            0: XGate(),\n",
    "            1: YGate(),\n",
    "            2: ZGate(),\n",
    "            3: HGate(),\n",
    "        }\n",
    "    \n",
    "    def get_score(self):\n",
    "        sim = Aer.get_backend('statevector_simulator')\n",
    "        result = sim.run(self.circuit, shots=1).result().get_statevector()\n",
    "        return Statevector(result).probabilities()[1]\n",
    "    \n",
    "    def reset(self):\n",
    "        self.circuit = QuantumCircuit(self.size)\n",
    "        \n",
    "        return self.get_score()\n",
    "    \n",
    "    def step(self, action):\n",
    "        self.circuit.append(self._action_to_direction[action], [0])\n",
    "        return self.get_score(), self.get_score()\n",
    "    \n",
    "    def render(self):\n",
    "        return self.circuit.draw(output=\"mpl\")"
   ]
  },
  {
   "cell_type": "code",
   "execution_count": 6,
   "id": "ae491d0a",
   "metadata": {},
   "outputs": [],
   "source": [
    "import gymnasium\n",
    "import onequbit"
   ]
  },
  {
   "cell_type": "code",
   "execution_count": 7,
   "id": "81510579",
   "metadata": {},
   "outputs": [],
   "source": [
    "env = gymnasium.make('onequbit/Qiskit-v0')"
   ]
  },
  {
   "cell_type": "code",
   "execution_count": 8,
   "id": "5623d8ce",
   "metadata": {},
   "outputs": [
    {
     "name": "stderr",
     "output_type": "stream",
     "text": [
      "/home/kknopp/Documents/Work/QWorld/env/lib/python3.11/site-packages/gymnasium/utils/passive_env_checker.py:197: DeprecationWarning: \u001b[33mWARN: Current gymnasium version requires that `Env.reset` can be passed a `seed` instead of using `Env.seed` for resetting the environment random number generator.\u001b[0m\n",
      "  logger.deprecation(\n",
      "/home/kknopp/Documents/Work/QWorld/env/lib/python3.11/site-packages/gymnasium/utils/passive_env_checker.py:210: DeprecationWarning: \u001b[33mWARN: Current gymnasium version requires that `Env.reset` can be passed `options` to allow the environment initialisation to be passed additional information.\u001b[0m\n",
      "  logger.deprecation(\n",
      "/home/kknopp/Documents/Work/QWorld/env/lib/python3.11/site-packages/gymnasium/utils/passive_env_checker.py:188: UserWarning: \u001b[33mWARN: The obs returned by the `reset()` method is not within the observation space.\u001b[0m\n",
      "  logger.warn(f\"{pre} is not within the observation space.\")\n"
     ]
    }
   ],
   "source": [
    "observation, info = env.reset()"
   ]
  },
  {
   "cell_type": "code",
   "execution_count": 9,
   "id": "e289de4a",
   "metadata": {},
   "outputs": [
    {
     "data": {
      "text/plain": [
       "{'agent': array([1, 0]), 'target': array([0, 1])}"
      ]
     },
     "execution_count": 9,
     "metadata": {},
     "output_type": "execute_result"
    }
   ],
   "source": [
    "observation"
   ]
  },
  {
   "cell_type": "code",
   "execution_count": 15,
   "id": "7813a816",
   "metadata": {},
   "outputs": [
    {
     "name": "stdout",
     "output_type": "stream",
     "text": [
      "{'agent': array([1.00000000e+00, 5.37469246e-31]), 'target': array([0, 1])} 5.374692456031843e-31\n",
      "{'agent': array([5.37469246e-31, 1.00000000e+00]), 'target': array([0, 1])} 1.0\n",
      "{'agent': array([1.00000000e+00, 5.37469246e-31]), 'target': array([0, 1])} 5.374692456031843e-31\n",
      "{'agent': array([5.37469246e-31, 1.00000000e+00]), 'target': array([0, 1])} 1.0\n",
      "{'agent': array([0.5, 0.5]), 'target': array([0, 1])} 0.5000000000000007\n",
      "{'agent': array([5.0372465e-31, 1.0000000e+00]), 'target': array([0, 1])} 1.0\n",
      "{'agent': array([1.0000000e+00, 5.0372465e-31]), 'target': array([0, 1])} 5.037246504932926e-31\n",
      "{'agent': array([0.5, 0.5]), 'target': array([0, 1])} 0.4999999999999993\n",
      "{'agent': array([0.5, 0.5]), 'target': array([0, 1])} 0.4999999999999993\n",
      "{'agent': array([0.5, 0.5]), 'target': array([0, 1])} 0.4999999999999993\n"
     ]
    }
   ],
   "source": [
    "for _ in range(10):\n",
    "    action = env.action_space.sample()  # agent policy that uses the observation and info\n",
    "    observation, reward, terminated, truncated, info = env.step(action)\n",
    "\n",
    "    if terminated:\n",
    "        break\n",
    "    \n",
    "    print(observation, reward)\n",
    "\n",
    "env.close()"
   ]
  },
  {
   "cell_type": "code",
   "execution_count": null,
   "id": "7915f9fc",
   "metadata": {},
   "outputs": [],
   "source": []
  }
 ],
 "metadata": {
  "kernelspec": {
   "display_name": "Python 3 (ipykernel)",
   "language": "python",
   "name": "python3"
  },
  "language_info": {
   "codemirror_mode": {
    "name": "ipython",
    "version": 3
   },
   "file_extension": ".py",
   "mimetype": "text/x-python",
   "name": "python",
   "nbconvert_exporter": "python",
   "pygments_lexer": "ipython3",
   "version": "3.11.3"
  }
 },
 "nbformat": 4,
 "nbformat_minor": 5
}

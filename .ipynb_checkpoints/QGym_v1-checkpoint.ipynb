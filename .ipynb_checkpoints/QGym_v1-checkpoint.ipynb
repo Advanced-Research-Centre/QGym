{
 "cells": [
  {
   "cell_type": "markdown",
   "metadata": {
    "colab_type": "text",
    "id": "view-in-github"
   },
   "source": [
    "<a href=\"https://colab.research.google.com/github/Advanced-Research-Centre/QGym/blob/main/QGym_v1.ipynb\" target=\"_parent\"><img src=\"https://colab.research.google.com/assets/colab-badge.svg\" alt=\"Open In Colab\"/></a>"
   ]
  },
  {
   "cell_type": "markdown",
   "metadata": {
    "id": "Mkl4Uko9U8if"
   },
   "source": [
    "Google Colab port of Kajetan Knoop's code\n",
    "\n",
    "https://github.com/Advanced-Research-Centre/QGym/commit/6148a7623866d697d327f8a9a40023b281de1cdf"
   ]
  },
  {
   "cell_type": "code",
   "execution_count": 1,
   "metadata": {
    "id": "oWZvjen2Sixd"
   },
   "outputs": [],
   "source": [
    "%%capture\n",
    "!pip3 install gymnasium\n",
    "!pip3 install qiskit"
   ]
  },
  {
   "cell_type": "code",
   "execution_count": 39,
   "metadata": {
    "id": "pvmMcNhlSn7P"
   },
   "outputs": [],
   "source": [
    "from qiskit import QuantumCircuit, Aer\n",
    "from qiskit.quantum_info import Statevector\n",
    "from qiskit.circuit.library import XGate, YGate, ZGate, HGate, SGate, TGate, IGate\n",
    "import gymnasium as gym\n",
    "from gymnasium import spaces\n",
    "import numpy as np\n",
    "from gymnasium.envs.registration import register"
   ]
  },
  {
   "cell_type": "code",
   "execution_count": 40,
   "metadata": {
    "id": "kiAC7uZBSx_R"
   },
   "outputs": [],
   "source": [
    "class QiskitEnv(gym.Env):\n",
    "    def __init__(self, size=1):\n",
    "        self.size = size  # The size of the circuit\n",
    "        self.circuit = QuantumCircuit(self.size)\n",
    "\n",
    "        # We have 4 different gates\n",
    "        self.action_space = spaces.Discrete(4)\n",
    "\n",
    "        self._action_to_direction = {\n",
    "            0: XGate(),\n",
    "            1: YGate(),\n",
    "            2: ZGate(),\n",
    "            3: HGate(),\n",
    "        }\n",
    "\n",
    "        self.observation_space = spaces.Box(0.0, 1.0, (1, 1), dtype=np.float32)\n",
    "\n",
    "    def get_score(self):\n",
    "        sim = Aer.get_backend('statevector_simulator')\n",
    "        result = sim.run(self.circuit, shots=1).result().get_statevector()\n",
    "        return Statevector(result).probabilities()[1]\n",
    "\n",
    "    def reset(self):\n",
    "        self.circuit = QuantumCircuit(self.size)\n",
    "\n",
    "        return self.get_score()\n",
    "\n",
    "    def step(self, action):\n",
    "        self.circuit.append(self._action_to_direction[action], [0])\n",
    "        return self.get_score(), self.get_score()\n",
    "\n",
    "    def render(self):\n",
    "        return self.circuit.draw(output=\"mpl\")"
   ]
  },
  {
   "cell_type": "code",
   "execution_count": 50,
   "metadata": {
    "id": "MS1GL5L1TaPh"
   },
   "outputs": [],
   "source": [
    "register(\n",
    "    id='kk/QGym-v0',\n",
    "    entry_point=QiskitEnv\n",
    ")\n",
    "env = gym.make('kk/QGym-v0')"
   ]
  },
  {
   "cell_type": "code",
   "execution_count": 53,
   "metadata": {
    "colab": {
     "base_uri": "https://localhost:8080/"
    },
    "id": "LvQIAj7HU6go",
    "outputId": "b90708bb-83a3-41c6-c9e7-6b4aeac21ef9"
   },
   "outputs": [
    {
     "name": "stdout",
     "output_type": "stream",
     "text": [
      "2 0.0 0.0\n",
      "1 1.0 1.0\n",
      "2 1.0 1.0\n",
      "3 0.5000000000000001 0.5000000000000001\n",
      "0 0.4999999999999999 0.4999999999999999\n",
      "2 0.4999999999999999 0.4999999999999999\n",
      "3 3.749399456654644e-33 3.749399456654644e-33\n",
      "2 3.749399456654644e-33 3.749399456654644e-33\n",
      "1 1.0 1.0\n",
      "3 0.5000000000000001 0.5000000000000001\n"
     ]
    }
   ],
   "source": [
    "env.reset()\n",
    "env.checked_step = True\n",
    "for _ in range(10):\n",
    "    action = env.action_space.sample()  # agent policy that uses the observation and info\n",
    "\n",
    "    observation, reward = env.step(action)\n",
    "    # observation, reward, terminated, truncated, info = env.step(action)\n",
    "    # if terminated:\n",
    "    #     break\n",
    "\n",
    "    print(action, observation, reward)\n",
    "\n",
    "env.close()"
   ]
  }
 ],
 "metadata": {
  "colab": {
   "authorship_tag": "ABX9TyPOzMF9EfvM7XnDKqPpCIE1",
   "include_colab_link": true,
   "provenance": []
  },
  "kernelspec": {
   "display_name": "Python 3",
   "language": "python",
   "name": "python3"
  },
  "language_info": {
   "codemirror_mode": {
    "name": "ipython",
    "version": 3
   },
   "file_extension": ".py",
   "mimetype": "text/x-python",
   "name": "python",
   "nbconvert_exporter": "python",
   "pygments_lexer": "ipython3",
   "version": "3.9.6"
  }
 },
 "nbformat": 4,
 "nbformat_minor": 1
}

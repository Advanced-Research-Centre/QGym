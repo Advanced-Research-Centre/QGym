{
 "cells": [
  {
   "cell_type": "code",
   "execution_count": 50,
   "id": "012c124b",
   "metadata": {},
   "outputs": [
    {
     "name": "stdout",
     "output_type": "stream",
     "text": [
      "Collecting gymnasium\n",
      "  Downloading gymnasium-0.28.1-py3-none-any.whl (925 kB)\n",
      "\u001b[2K     \u001b[38;2;114;156;31m━━━━━━━━━━━━━━━━━━━━━━━━━━━━━━━━━━━━━━━\u001b[0m \u001b[32m925.5/925.5 kB\u001b[0m \u001b[31m8.8 MB/s\u001b[0m eta \u001b[36m0:00:00\u001b[0mm eta \u001b[36m0:00:01\u001b[0m0:01\u001b[0m:01\u001b[0m\n",
      "\u001b[?25hRequirement already satisfied: numpy>=1.21.0 in /home/kknopp/Documents/Work/QWorld/env/lib/python3.11/site-packages (from gymnasium) (1.23.5)\n",
      "Collecting jax-jumpy>=1.0.0\n",
      "  Downloading jax_jumpy-1.0.0-py3-none-any.whl (20 kB)\n",
      "Requirement already satisfied: cloudpickle>=1.2.0 in /home/kknopp/Documents/Work/QWorld/env/lib/python3.11/site-packages (from gymnasium) (2.2.1)\n",
      "Collecting typing-extensions>=4.3.0\n",
      "  Using cached typing_extensions-4.7.1-py3-none-any.whl (33 kB)\n",
      "Collecting farama-notifications>=0.0.1\n",
      "  Downloading Farama_Notifications-0.0.4-py3-none-any.whl (2.5 kB)\n",
      "Installing collected packages: farama-notifications, typing-extensions, jax-jumpy, gymnasium\n",
      "Successfully installed farama-notifications-0.0.4 gymnasium-0.28.1 jax-jumpy-1.0.0 typing-extensions-4.7.1\n",
      "\n",
      "\u001b[1m[\u001b[0m\u001b[34;49mnotice\u001b[0m\u001b[1;39;49m]\u001b[0m\u001b[39;49m A new release of pip available: \u001b[0m\u001b[31;49m22.3.1\u001b[0m\u001b[39;49m -> \u001b[0m\u001b[32;49m23.1.2\u001b[0m\n",
      "\u001b[1m[\u001b[0m\u001b[34;49mnotice\u001b[0m\u001b[1;39;49m]\u001b[0m\u001b[39;49m To update, run: \u001b[0m\u001b[32;49mpip install --upgrade pip\u001b[0m\n"
     ]
    }
   ],
   "source": [
    "!pip3 install gymnasium"
   ]
  },
  {
   "cell_type": "code",
   "execution_count": 52,
   "id": "4aa90835",
   "metadata": {},
   "outputs": [
    {
     "data": {
      "image/png": "[encoded data removed]",
      "text/plain": [
       "<Figure size 185.453x117.056 with 1 Axes>"
      ]
     },
     "execution_count": 52,
     "metadata": {},
     "output_type": "execute_result"
    }
   ],
   "source": [
    "from qiskit import QuantumCircuit, Aer\n",
    "from qiskit.quantum_info import Statevector\n",
    "from qiskit.circuit.library import XGate, YGate, ZGate, HGate, SGate, TGate, IGate\n",
    "import gymnasium as gym\n",
    "from gymnasium import spaces\n",
    "\n",
    "# Defining the circuit\n",
    "c = QuantumCircuit(1)\n",
    "c.h(0)\n",
    "c.draw(output='mpl')"
   ]
  },
  {
   "cell_type": "code",
   "execution_count": 53,
   "id": "d0b800a4",
   "metadata": {},
   "outputs": [],
   "source": [
    "def get_score(circuit):\n",
    "    sim = Aer.get_backend('statevector_simulator')\n",
    "    result = sim.run(c, shots=1).result().get_statevector()\n",
    "    return Statevector(result).probabilities()[1]"
   ]
  },
  {
   "cell_type": "code",
   "execution_count": 54,
   "id": "1a3c1819",
   "metadata": {},
   "outputs": [
    {
     "data": {
      "text/plain": [
       "array([0.5, 0.5])"
      ]
     },
     "execution_count": 54,
     "metadata": {},
     "output_type": "execute_result"
    }
   ],
   "source": [
    "get_score(c)"
   ]
  },
  {
   "cell_type": "code",
   "execution_count": 56,
   "id": "52128238",
   "metadata": {},
   "outputs": [],
   "source": [
    "class QiskitEnv(gym.Env):\n",
    "    def __init__(self, size=1):\n",
    "        self.size = size  # The size of the circuit\n",
    "        self.circuit = QuantumCircuit(self.size)\n",
    "\n",
    "        # Observations are dictionaries with the agent's and the target's location.\n",
    "        # Each location is encoded as an element of {0, ..., `size`}^2, i.e. MultiDiscrete([size, size]).\n",
    "        self.observation_space = spaces.Dict(\n",
    "            {\n",
    "                \"agent\": spaces.Box(0, size - 1, shape=(2,), dtype=int),\n",
    "                \"target\": spaces.Box(0, size - 1, shape=(2,), dtype=int),\n",
    "            }\n",
    "        )\n",
    "\n",
    "        # We have 7 different gates\n",
    "        self.action_space = spaces.Discrete(4)\n",
    "\n",
    "        \"\"\"\n",
    "        The following dictionary maps abstract actions from `self.action_space` to\n",
    "        the direction we will walk in if that action is taken.\n",
    "        I.e. 0 corresponds to \"right\", 1 to \"up\" etc.\n",
    "        \"\"\"\n",
    "        self._action_to_direction = {\n",
    "            0: XGate(),\n",
    "            1: YGate(),\n",
    "            2: ZGate(),\n",
    "            3: HGate(),\n",
    "        }\n",
    "    \n",
    "    def get_score(self):\n",
    "        sim = Aer.get_backend('statevector_simulator')\n",
    "        result = sim.run(self.circuit, shots=1).result().get_statevector()\n",
    "        return Statevector(result).probabilities()[1]\n",
    "    \n",
    "    def reset(self):\n",
    "        self.circuit = QuantumCircuit(self.size)\n",
    "        \n",
    "        return self.get_score()\n",
    "    \n",
    "    "
   ]
  },
  {
   "cell_type": "code",
   "execution_count": null,
   "id": "ecdab63c",
   "metadata": {},
   "outputs": [],
   "source": []
  }
 ],
 "metadata": {
  "kernelspec": {
   "display_name": "Python 3 (ipykernel)",
   "language": "python",
   "name": "python3"
  },
  "language_info": {
   "codemirror_mode": {
    "name": "ipython",
    "version": 3
   },
   "file_extension": ".py",
   "mimetype": "text/x-python",
   "name": "python",
   "nbconvert_exporter": "python",
   "pygments_lexer": "ipython3",
   "version": "3.11.3"
  }
 },
 "nbformat": 4,
 "nbformat_minor": 5
}

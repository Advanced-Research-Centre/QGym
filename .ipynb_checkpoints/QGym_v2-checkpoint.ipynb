{
 "cells": [
  {
   "cell_type": "markdown",
   "metadata": {
    "colab_type": "text",
    "id": "view-in-github"
   },
   "source": [
    "<a href=\"https://colab.research.google.com/github/Advanced-Research-Centre/QGym/blob/main/QGym_v2.ipynb\" target=\"_parent\"><img src=\"https://colab.research.google.com/assets/colab-badge.svg\" alt=\"Open In Colab\"/></a>"
   ]
  },
  {
   "cell_type": "markdown",
   "metadata": {
    "id": "Mkl4Uko9U8if"
   },
   "source": [
    "Google Colab port of Kajetan Knoop's code\n",
    "\n",
    "https://github.com/Advanced-Research-Centre/QGym/commit/787b428a4c82bde97aa120e7319da6d7c92d25a2"
   ]
  },
  {
   "cell_type": "code",
   "execution_count": 72,
   "metadata": {
    "id": "pvmMcNhlSn7P"
   },
   "outputs": [],
   "source": [
    "from qiskit import QuantumCircuit, Aer\n",
    "from qiskit.quantum_info import Statevector\n",
    "from qiskit.circuit.library import XGate, YGate, ZGate, HGate, SGate, TGate, IGate, CXGate, CYGate, CZGate\n",
    "import gymnasium as gym\n",
    "from gymnasium import spaces\n",
    "import numpy as np\n",
    "from gymnasium.envs.registration import register\n",
    "import qiskit.tools.jupyter\n",
    "%matplotlib inline"
   ]
  },
  {
   "cell_type": "code",
   "execution_count": 85,
   "metadata": {
    "id": "kiAC7uZBSx_R"
   },
   "outputs": [],
   "source": [
    "class QGymEnv(gym.Env):\n",
    "    def __init__(self, size=1, target_state=None):\n",
    "\n",
    "        self.size = size  # The size of the circuit\n",
    "        self.circuit = QuantumCircuit(self.size)\n",
    "        if target_state == None:\n",
    "            self.t_state = np.zeros(2**size)\n",
    "            self.t_state[0] = 1.0\n",
    "        else:\n",
    "            self.t_state = target_state\n",
    "        \n",
    "        self.c0 = 1       # coefficient to weigh the fidelity\n",
    "        self.c1 = -0.01   # coefficient to weigh the depth\n",
    "\n",
    "        self._available_gates = [XGate, YGate, ZGate, HGate, SGate, TGate, IGate, CXGate, CYGate, CZGate]\n",
    "        self.action_space = spaces.Tuple((spaces.Discrete(len(self._available_gates)), spaces.Discrete(self.size)))\n",
    "        self.two_qubit_set = [\"cx\", \"cy\", \"cz\"]\n",
    "        \n",
    "        self.observation_space = spaces.Box(0.0, 1.0, (1, 1), dtype=np.float64)\n",
    "\n",
    "    def _get_depth(self):\n",
    "        return self.circuit.depth()\n",
    "\n",
    "    def _get_fidelity(self):\n",
    "        sim = Aer.get_backend('statevector_simulator')\n",
    "        result = np.array(sim.run(self.circuit, shots=1).result().get_statevector().data)\n",
    "        fid = np.abs(np.matrix.getH(result)@self.t_state)\n",
    "        #print(float(fid))\n",
    "        return fid\n",
    "\n",
    "    def reset(self):\n",
    "        self.circuit = QuantumCircuit(self.size)\n",
    "        return\n",
    "\n",
    "    def step(self, action):\n",
    "        if self._available_gates[action[0]]().name in self.two_qubit_set:\n",
    "            self.circuit.append(self._available_gates[action[0]](), [action[1]%self.size, (action[1]+1)%self.size])\n",
    "        else:\n",
    "            self.circuit.append(self._available_gates[action[0]](), [action[1]%self.size])\n",
    "        d = self._get_depth()\n",
    "        f = self._get_fidelity()\n",
    "        reward = self.c0*f + self.c1*d\n",
    "        terminated = (f > 0.90)\n",
    "        observation = f   # unused for now\n",
    "        info = {}         # unused for now\n",
    "        truncated = False # unused for now\n",
    "        return observation, reward, terminated, truncated, info\n",
    "\n",
    "    def get_circuit(self):\n",
    "        return self.circuit\n",
    "\n",
    "    def render(self):\n",
    "        self.circuit.draw(output=\"mpl\")\n",
    "        return"
   ]
  },
  {
   "cell_type": "code",
   "execution_count": 86,
   "metadata": {
    "id": "MS1GL5L1TaPh"
   },
   "outputs": [],
   "source": [
    "register(\n",
    "    id='kk/QGym-v2',\n",
    "    entry_point=QGymEnv\n",
    ")\n",
    "env = gym.make('kk/QGym-v2',  size=2, target_state=[1/np.sqrt(2), 0.0, 0.0, 1/np.sqrt(2)])"
   ]
  },
  {
   "cell_type": "code",
   "execution_count": 87,
   "metadata": {
    "colab": {
     "base_uri": "https://localhost:8080/"
    },
    "id": "LvQIAj7HU6go",
    "outputId": "4bf29ad4-3c0f-40df-c9ae-c4e0a1e65049"
   },
   "outputs": [
    {
     "name": "stdout",
     "output_type": "stream",
     "text": [
      "Step: 1 \tAction: (5, 1) \tReward: 0.6971067811865475\n",
      "          \n",
      "q_0: ─────\n",
      "     ┌───┐\n",
      "q_1: ┤ T ├\n",
      "     └───┘\n",
      "Step: 2 \tAction: (6, 1) \tReward: 0.6871067811865474\n",
      "               \n",
      "q_0: ──────────\n",
      "     ┌───┐┌───┐\n",
      "q_1: ┤ T ├┤ I ├\n",
      "     └───┘└───┘\n",
      "Step: 3 \tAction: (8, 1) \tReward: 0.6771067811865474\n",
      "               ┌───┐\n",
      "q_0: ──────────┤ Y ├\n",
      "     ┌───┐┌───┐└─┬─┘\n",
      "q_1: ┤ T ├┤ I ├──■──\n",
      "     └───┘└───┘     \n",
      "Step: 4 \tAction: (1, 0) \tReward: -0.04\n",
      "               ┌───┐┌───┐\n",
      "q_0: ──────────┤ Y ├┤ Y ├\n",
      "     ┌───┐┌───┐└─┬─┘└───┘\n",
      "q_1: ┤ T ├┤ I ├──■───────\n",
      "     └───┘└───┘          \n",
      "Step: 5 \tAction: (2, 0) \tReward: -0.05\n",
      "               ┌───┐┌───┐┌───┐\n",
      "q_0: ──────────┤ Y ├┤ Y ├┤ Z ├\n",
      "     ┌───┐┌───┐└─┬─┘└───┘└───┘\n",
      "q_1: ┤ T ├┤ I ├──■────────────\n",
      "     └───┘└───┘               \n",
      "Step: 6 \tAction: (3, 0) \tReward: 0.44\n",
      "               ┌───┐┌───┐┌───┐┌───┐\n",
      "q_0: ──────────┤ Y ├┤ Y ├┤ Z ├┤ H ├\n",
      "     ┌───┐┌───┐└─┬─┘└───┘└───┘└───┘\n",
      "q_1: ┤ T ├┤ I ├──■─────────────────\n",
      "     └───┘└───┘                    \n",
      "Step: 7 \tAction: (8, 0) \tReward: 0.6371067811865476\n",
      "               ┌───┐┌───┐┌───┐┌───┐     \n",
      "q_0: ──────────┤ Y ├┤ Y ├┤ Z ├┤ H ├──■──\n",
      "     ┌───┐┌───┐└─┬─┘└───┘└───┘└───┘┌─┴─┐\n",
      "q_1: ┤ T ├┤ I ├──■─────────────────┤ Y ├\n",
      "     └───┘└───┘                    └───┘\n",
      "Step: 8 \tAction: (0, 0) \tReward: -0.08\n",
      "               ┌───┐┌───┐┌───┐┌───┐     ┌───┐\n",
      "q_0: ──────────┤ Y ├┤ Y ├┤ Z ├┤ H ├──■──┤ X ├\n",
      "     ┌───┐┌───┐└─┬─┘└───┘└───┘└───┘┌─┴─┐└───┘\n",
      "q_1: ┤ T ├┤ I ├──■─────────────────┤ Y ├─────\n",
      "     └───┘└───┘                    └───┘     \n",
      "Step: 9 \tAction: (2, 0) \tReward: -0.09\n",
      "               ┌───┐┌───┐┌───┐┌───┐     ┌───┐┌───┐\n",
      "q_0: ──────────┤ Y ├┤ Y ├┤ Z ├┤ H ├──■──┤ X ├┤ Z ├\n",
      "     ┌───┐┌───┐└─┬─┘└───┘└───┘└───┘┌─┴─┐└───┘└───┘\n",
      "q_1: ┤ T ├┤ I ├──■─────────────────┤ Y ├──────────\n",
      "     └───┘└───┘                    └───┘          \n",
      "Step: 10 \tAction: (9, 1) \tReward: -0.1\n",
      "               ┌───┐┌───┐┌───┐┌───┐     ┌───┐┌───┐   \n",
      "q_0: ──────────┤ Y ├┤ Y ├┤ Z ├┤ H ├──■──┤ X ├┤ Z ├─■─\n",
      "     ┌───┐┌───┐└─┬─┘└───┘└───┘└───┘┌─┴─┐└───┘└───┘ │ \n",
      "q_1: ┤ T ├┤ I ├──■─────────────────┤ Y ├───────────■─\n",
      "     └───┘└───┘                    └───┘             \n",
      "Step: 11 \tAction: (5, 0) \tReward: -0.11\n",
      "               ┌───┐┌───┐┌───┐┌───┐     ┌───┐┌───┐   ┌───┐\n",
      "q_0: ──────────┤ Y ├┤ Y ├┤ Z ├┤ H ├──■──┤ X ├┤ Z ├─■─┤ T ├\n",
      "     ┌───┐┌───┐└─┬─┘└───┘└───┘└───┘┌─┴─┐└───┘└───┘ │ └───┘\n",
      "q_1: ┤ T ├┤ I ├──■─────────────────┤ Y ├───────────■──────\n",
      "     └───┘└───┘                    └───┘                  \n",
      "Step: 12 \tAction: (0, 1) \tReward: 0.8138795325112868\n",
      "               ┌───┐┌───┐┌───┐┌───┐     ┌───┐┌───┐   ┌───┐\n",
      "q_0: ──────────┤ Y ├┤ Y ├┤ Z ├┤ H ├──■──┤ X ├┤ Z ├─■─┤ T ├\n",
      "     ┌───┐┌───┐└─┬─┘└───┘└───┘└───┘┌─┴─┐└───┘└───┘ │ ├───┤\n",
      "q_1: ┤ T ├┤ I ├──■─────────────────┤ Y ├───────────■─┤ X ├\n",
      "     └───┘└───┘                    └───┘             └───┘\n",
      "               ┌───┐┌───┐┌───┐┌───┐     ┌───┐┌───┐   ┌───┐\n",
      "q_0: ──────────┤ Y ├┤ Y ├┤ Z ├┤ H ├──■──┤ X ├┤ Z ├─■─┤ T ├\n",
      "     ┌───┐┌───┐└─┬─┘└───┘└───┘└───┘┌─┴─┐└───┘└───┘ │ ├───┤\n",
      "q_1: ┤ T ├┤ I ├──■─────────────────┤ Y ├───────────■─┤ X ├\n",
      "     └───┘└───┘                    └───┘             └───┘\n"
     ]
    }
   ],
   "source": [
    "env.reset()\n",
    "env.checked_step = True\n",
    "\n",
    "for step in range(100):\n",
    "    action = env.action_space.sample()\n",
    "\n",
    "    observation, reward, terminated, truncated, info = env.step(action)\n",
    "    print(\"Step:\",(step+1),\"\\tAction:\",action,\"\\tReward:\",reward)\n",
    "    print(env.get_circuit())\n",
    "    if terminated:\n",
    "        print(env.get_circuit())\n",
    "        break\n",
    "\n",
    "env.close()"
   ]
  },
  {
   "cell_type": "code",
   "execution_count": null,
   "metadata": {},
   "outputs": [],
   "source": []
  }
 ],
 "metadata": {
  "colab": {
   "authorship_tag": "ABX9TyMFHJEJYmYx7UhmKZ53EJSg",
   "include_colab_link": true,
   "provenance": []
  },
  "kernelspec": {
   "display_name": "Python 3",
   "language": "python",
   "name": "python3"
  },
  "language_info": {
   "codemirror_mode": {
    "name": "ipython",
    "version": 3
   },
   "file_extension": ".py",
   "mimetype": "text/x-python",
   "name": "python",
   "nbconvert_exporter": "python",
   "pygments_lexer": "ipython3",
   "version": "3.9.6"
  }
 },
 "nbformat": 4,
 "nbformat_minor": 1
}

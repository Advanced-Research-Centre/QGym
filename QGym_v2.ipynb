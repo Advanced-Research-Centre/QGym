{
  "nbformat": 4,
  "nbformat_minor": 0,
  "metadata": {
    "colab": {
      "provenance": [],
      "authorship_tag": "ABX9TyMFHJEJYmYx7UhmKZ53EJSg",
      "include_colab_link": true
    },
    "kernelspec": {
      "name": "python3",
      "display_name": "Python 3"
    },
    "language_info": {
      "name": "python"
    }
  },
  "cells": [
    {
      "cell_type": "markdown",
      "metadata": {
        "id": "view-in-github",
        "colab_type": "text"
      },
      "source": [
        "<a href=\"https://colab.research.google.com/github/Advanced-Research-Centre/QGym/blob/main/QGym_v2.ipynb\" target=\"_parent\"><img src=\"https://colab.research.google.com/assets/colab-badge.svg\" alt=\"Open In Colab\"/></a>"
      ]
    },
    {
      "cell_type": "markdown",
      "source": [
        "Google Colab port of Kajetan Knoop's code\n",
        "\n",
        "https://github.com/Advanced-Research-Centre/QGym/commit/787b428a4c82bde97aa120e7319da6d7c92d25a2"
      ],
      "metadata": {
        "id": "Mkl4Uko9U8if"
      }
    },
    {
      "cell_type": "code",
      "execution_count": 1,
      "metadata": {
        "id": "oWZvjen2Sixd"
      },
      "outputs": [],
      "source": [
        "%%capture\n",
        "!pip3 install gymnasium\n",
        "!pip3 install qiskit\n",
        "!pip3 install pylatexenc\n",
        "!pip3 install matplotlib"
      ]
    },
    {
      "cell_type": "code",
      "source": [
        "from qiskit import QuantumCircuit, Aer\n",
        "from qiskit.quantum_info import Statevector\n",
        "from qiskit.circuit.library import XGate, YGate, ZGate, HGate, SGate, TGate, IGate\n",
        "import gymnasium as gym\n",
        "from gymnasium import spaces\n",
        "import numpy as np\n",
        "from gymnasium.envs.registration import register\n",
        "import qiskit.tools.jupyter\n",
        "%matplotlib inline"
      ],
      "metadata": {
        "id": "pvmMcNhlSn7P"
      },
      "execution_count": 2,
      "outputs": []
    },
    {
      "cell_type": "code",
      "source": [
        "class QGymEnv(gym.Env):\n",
        "    def __init__(self, size=1):\n",
        "\n",
        "        self.size = size  # The size of the circuit\n",
        "        self.circuit = QuantumCircuit(self.size)\n",
        "\n",
        "        self.c0 = 1       # coefficient to weigh the fidelity\n",
        "        self.c1 = -0.01   # coefficient to weigh the depth\n",
        "\n",
        "        self._available_gates = [XGate, YGate, ZGate, HGate, SGate, TGate, IGate]\n",
        "        self.action_space = spaces.Tuple((spaces.Discrete(len(self._available_gates)), spaces.Discrete(self.size)))\n",
        "\n",
        "        self.observation_space = spaces.Box(0.0, 1.0, (1, 1), dtype=np.float64)\n",
        "\n",
        "    def _get_depth(self):\n",
        "        return self.circuit.depth()\n",
        "\n",
        "    def _get_fidelity(self):\n",
        "        sim = Aer.get_backend('statevector_simulator')\n",
        "        result = sim.run(self.circuit, shots=1).result().get_statevector()\n",
        "        return Statevector(result).probabilities()[-1]\n",
        "\n",
        "    def reset(self):\n",
        "        self.circuit = QuantumCircuit(self.size)\n",
        "        return\n",
        "\n",
        "    def step(self, action):\n",
        "        self.circuit.append(self._available_gates[action[0]](), [action[1]%self.size])\n",
        "        d = self._get_depth()\n",
        "        f = self._get_fidelity()\n",
        "        reward = self.c0*f + self.c1*d\n",
        "        terminated = (f > 0.95)\n",
        "        observation = f   # unused for now\n",
        "        info = {}         # unused for now\n",
        "        truncated = False # unused for now\n",
        "        return observation, reward, terminated, truncated, info\n",
        "\n",
        "    def get_circuit(self):\n",
        "        return self.circuit\n",
        "\n",
        "    def render(self):\n",
        "        self.circuit.draw(output=\"mpl\")\n",
        "        return"
      ],
      "metadata": {
        "id": "kiAC7uZBSx_R"
      },
      "execution_count": 17,
      "outputs": []
    },
    {
      "cell_type": "code",
      "source": [
        "register(\n",
        "    id='kk/QGym-v2',\n",
        "    entry_point=QGymEnv\n",
        ")\n",
        "env = gym.make('kk/QGym-v2')"
      ],
      "metadata": {
        "id": "MS1GL5L1TaPh"
      },
      "execution_count": 18,
      "outputs": []
    },
    {
      "cell_type": "code",
      "source": [
        "env.reset()\n",
        "env.checked_step = True\n",
        "\n",
        "for step in range(10):\n",
        "    action = env.action_space.sample()\n",
        "\n",
        "    observation, reward, terminated, truncated, info = env.step(action)\n",
        "    print(\"Step:\",(step+1),\"\\tAction:\",action,\"\\tReward:\",reward)\n",
        "\n",
        "    if terminated:\n",
        "      print(env.get_circuit())\n",
        "      break\n",
        "\n",
        "env.close()"
      ],
      "metadata": {
        "colab": {
          "base_uri": "https://localhost:8080/"
        },
        "id": "LvQIAj7HU6go",
        "outputId": "4bf29ad4-3c0f-40df-c9ae-c4e0a1e65049"
      },
      "execution_count": 22,
      "outputs": [
        {
          "output_type": "stream",
          "name": "stdout",
          "text": [
            "Step: 1 \tAction: (2, 0) \tReward: -0.01\n",
            "Step: 2 \tAction: (6, 0) \tReward: -0.02\n",
            "Step: 3 \tAction: (6, 0) \tReward: -0.03\n",
            "Step: 4 \tAction: (4, 0) \tReward: -0.04\n",
            "Step: 5 \tAction: (5, 0) \tReward: -0.05\n",
            "Step: 6 \tAction: (0, 0) \tReward: 0.94\n",
            "   ┌───┐┌───┐┌───┐┌───┐┌───┐┌───┐\n",
            "q: ┤ Z ├┤ I ├┤ I ├┤ S ├┤ T ├┤ X ├\n",
            "   └───┘└───┘└───┘└───┘└───┘└───┘\n"
          ]
        }
      ]
    }
  ]
}
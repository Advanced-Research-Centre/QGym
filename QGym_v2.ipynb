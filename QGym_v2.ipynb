{
 "cells": [
  {
   "cell_type": "markdown",
   "metadata": {
    "colab_type": "text",
    "id": "view-in-github"
   },
   "source": [
    "<a href=\"https://colab.research.google.com/github/Advanced-Research-Centre/QGym/blob/main/QGym_v2.ipynb\" target=\"_parent\"><img src=\"https://colab.research.google.com/assets/colab-badge.svg\" alt=\"Open In Colab\"/></a>"
   ]
  },
  {
   "cell_type": "markdown",
   "metadata": {
    "id": "Mkl4Uko9U8if"
   },
   "source": [
    "Google Colab port of Kajetan Knoop's code\n",
    "\n",
    "https://github.com/Advanced-Research-Centre/QGym/commit/787b428a4c82bde97aa120e7319da6d7c92d25a2"
   ]
  },
  {
   "cell_type": "code",
   "execution_count": null,
   "metadata": {
    "id": "oWZvjen2Sixd"
   },
   "outputs": [],
   "source": [
    "%%capture\n",
    "!pip3 install gymnasium\n",
    "!pip3 install qiskit\n",
    "!pip3 install qiskit-aer\n",
    "!pip3 install pylatexenc\n",
    "!pip3 install matplotlib\n",
    "!pip3 install tensorflow\n",
    "!pip3 install tf-agents"
   ]
  },
  {
   "cell_type": "code",
   "execution_count": 1,
   "metadata": {
    "id": "pvmMcNhlSn7P"
   },
   "outputs": [],
   "source": [
    "from qiskit import QuantumCircuit, Aer\n",
    "from qiskit.quantum_info import Statevector\n",
    "from qiskit.circuit.library import XGate, YGate, ZGate, HGate, SGate, TGate, IGate, CXGate, CZGate, CYGate, SwapGate, CHGate, CSGate, CSdgGate, CSwapGate, CCXGate\n",
    "import gymnasium as gym\n",
    "from gymnasium import spaces\n",
    "import numpy as np\n",
    "from gymnasium.envs.registration import register\n",
    "import qiskit.tools.jupyter\n",
    "%matplotlib inline"
   ]
  },
  {
   "cell_type": "code",
   "execution_count": 2,
   "metadata": {
    "id": "kiAC7uZBSx_R"
   },
   "outputs": [],
   "source": [
    "class QGymEnv(gym.Env):\n",
    "    def __init__(self, size=1):\n",
    "\n",
    "        self.size = size  # The size of the circuit\n",
    "        self.circuit = QuantumCircuit(self.size)\n",
    "\n",
    "        self.c0 = 1       # coefficient to weigh the fidelity\n",
    "        self.c1 = -0.01   # coefficient to weigh the depth\n",
    "\n",
    "        self._available_gates = [XGate, YGate, ZGate, HGate, SGate, TGate, IGate, \n",
    "                                 CXGate, CZGate, CYGate, SwapGate, \n",
    "                                 CSwapGate, CCXGate]\n",
    "        self.action_space = spaces.Tuple((spaces.Discrete(len(self._available_gates)), spaces.Discrete(self.size), spaces.Discrete(self.size), spaces.Discrete(self.size)))\n",
    "        self.observation_space = spaces.Box(0.0, 1.0, (1, 1), dtype=np.float64)\n",
    "\n",
    "    def _get_depth(self):\n",
    "        return self.circuit.depth()\n",
    "\n",
    "    def _get_fidelity(self):\n",
    "        sim = Aer.get_backend('statevector_simulator')\n",
    "        result = sim.run(self.circuit, shots=1).result().get_statevector()\n",
    "        return Statevector(result).probabilities()[-1]\n",
    "\n",
    "    def reset(self):\n",
    "        self.circuit = QuantumCircuit(self.size)\n",
    "        return\n",
    "\n",
    "    def step(self, action):\n",
    "        if(action[0] > 10 and self.size > 2):\n",
    "            if(action[1]%self.size != action[2]%self.size and \n",
    "               action[2]%self.size != action[3]%self.size and \n",
    "               action[1]%self.size != action[3]%self.size):\n",
    "                self.circuit.append(self._available_gates[action[0]](), [action[1]%self.size, action[2]%self.size, action[3]%self.size])\n",
    "            else:\n",
    "                print(\"Skipping\")\n",
    "        elif(action[0] > 6 and self.size > 1):\n",
    "            if(action[1]%self.size != action[2]%self.size):\n",
    "                self.circuit.append(self._available_gates[action[0]](), [action[1]%self.size, action[2]%self.size])\n",
    "            else:\n",
    "                print(\"Skipping\")\n",
    "        elif(action[0] <= 6):\n",
    "            self.circuit.append(self._available_gates[action[0]](), [action[1]%self.size])\n",
    "        else:\n",
    "            print(\"Skipping\")\n",
    "        d = self._get_depth()\n",
    "        f = self._get_fidelity()\n",
    "        reward = self.c0*f + self.c1*d\n",
    "        terminated = (f > 0.95)\n",
    "        observation = f   # unused for now\n",
    "        info = {}         # unused for now\n",
    "        truncated = False # unused for now\n",
    "        return observation, reward, terminated, truncated, info\n",
    "\n",
    "    def get_circuit(self):\n",
    "        return self.circuit\n",
    "\n",
    "    def render(self):\n",
    "        self.circuit.draw(output=\"mpl\")\n",
    "        return"
   ]
  },
  {
   "cell_type": "code",
   "execution_count": 3,
   "metadata": {
    "id": "MS1GL5L1TaPh"
   },
   "outputs": [],
   "source": [
    "register(\n",
    "    id='kk/QGym-v2',\n",
    "    entry_point=QGymEnv\n",
    ")\n",
    "env = gym.make('kk/QGym-v2')"
   ]
  },
  {
   "cell_type": "code",
   "execution_count": 4,
   "metadata": {
    "colab": {
     "base_uri": "https://localhost:8080/"
    },
    "id": "LvQIAj7HU6go",
    "outputId": "4bf29ad4-3c0f-40df-c9ae-c4e0a1e65049"
   },
   "outputs": [
    {
     "name": "stderr",
     "output_type": "stream",
     "text": [
      "/home/kknopp/.local/share/virtualenvs/QGym-DzVPt-8P/lib/python3.11/site-packages/gymnasium/utils/passive_env_checker.py:168: DeprecationWarning: \u001b[33mWARN: Current gymnasium version requires that `Env.reset` can be passed a `seed` instead of using `Env.seed` for resetting the environment random number generator.\u001b[0m\n",
      "  logger.deprecation(\n",
      "/home/kknopp/.local/share/virtualenvs/QGym-DzVPt-8P/lib/python3.11/site-packages/gymnasium/utils/passive_env_checker.py:181: DeprecationWarning: \u001b[33mWARN: Current gymnasium version requires that `Env.reset` can be passed `options` to allow the environment initialisation to be passed additional information.\u001b[0m\n",
      "  logger.deprecation(\n",
      "/home/kknopp/.local/share/virtualenvs/QGym-DzVPt-8P/lib/python3.11/site-packages/gymnasium/utils/passive_env_checker.py:189: UserWarning: \u001b[33mWARN: The result returned by `env.reset()` was not a tuple of the form `(obs, info)`, where `obs` is a observation and `info` is a dictionary containing additional information. Actual type: `<class 'NoneType'>`\u001b[0m\n",
      "  logger.warn(\n"
     ]
    },
    {
     "name": "stdout",
     "output_type": "stream",
     "text": [
      "Step: 1 \tAction: (0, 0, 0, 0) \tReward: 0.99\n",
      "Step: 2 \tAction: (6, 0, 0, 0) \tReward: 0.98\n",
      "Step: 3 \tAction: (3, 0, 0, 0) \tReward: 0.4700000000000001\n",
      "Skipping\n",
      "Step: 4 \tAction: (9, 0, 0, 0) \tReward: 0.4700000000000001\n",
      "Step: 5 \tAction: (0, 0, 0, 0) \tReward: 0.4599999999999999\n",
      "Skipping\n",
      "Step: 6 \tAction: (8, 0, 0, 0) \tReward: 0.4599999999999999\n",
      "Skipping\n",
      "Step: 7 \tAction: (8, 0, 0, 0) \tReward: 0.4599999999999999\n",
      "Step: 8 \tAction: (2, 0, 0, 0) \tReward: 0.4499999999999999\n",
      "Step: 9 \tAction: (1, 0, 0, 0) \tReward: 0.4400000000000001\n",
      "Step: 10 \tAction: (4, 0, 0, 0) \tReward: 0.4300000000000001\n",
      "   ┌───┐┌───┐┌───┐┌───┐┌───┐┌───┐┌───┐\n",
      "q: ┤ X ├┤ I ├┤ H ├┤ X ├┤ Z ├┤ Y ├┤ S ├\n",
      "   └───┘└───┘└───┘└───┘└───┘└───┘└───┘\n"
     ]
    },
    {
     "name": "stderr",
     "output_type": "stream",
     "text": [
      "/home/kknopp/.local/share/virtualenvs/QGym-DzVPt-8P/lib/python3.11/site-packages/gymnasium/utils/passive_env_checker.py:131: UserWarning: \u001b[33mWARN: The obs returned by the `step()` method was expecting a numpy array, actual type: <class 'numpy.float64'>\u001b[0m\n",
      "  logger.warn(\n",
      "/home/kknopp/.local/share/virtualenvs/QGym-DzVPt-8P/lib/python3.11/site-packages/gymnasium/spaces/box.py:240: UserWarning: \u001b[33mWARN: Casting input x to numpy array.\u001b[0m\n",
      "  gym.logger.warn(\"Casting input x to numpy array.\")\n",
      "/home/kknopp/.local/share/virtualenvs/QGym-DzVPt-8P/lib/python3.11/site-packages/gymnasium/utils/passive_env_checker.py:159: UserWarning: \u001b[33mWARN: The obs returned by the `step()` method is not within the observation space.\u001b[0m\n",
      "  logger.warn(f\"{pre} is not within the observation space.\")\n",
      "/home/kknopp/.local/share/virtualenvs/QGym-DzVPt-8P/lib/python3.11/site-packages/gymnasium/core.py:297: UserWarning: \u001b[33mWARN: env.get_circuit to get variables from other wrappers is deprecated and will be removed in v1.0, to get this variable you can do `env.unwrapped.get_circuit` for environment variables or `env.get_attr('get_circuit')` that will search the reminding wrappers.\u001b[0m\n",
      "  logger.warn(\n"
     ]
    }
   ],
   "source": [
    "env.reset()\n",
    "env.checked_step = True\n",
    "\n",
    "for step in range(10):\n",
    "    action = env.action_space.sample()\n",
    "\n",
    "    observation, reward, terminated, truncated, info = env.step(action)\n",
    "    print(\"Step:\",(step+1),\"\\tAction:\",action,\"\\tReward:\",reward)\n",
    "\n",
    "    #if terminated:\n",
    "    #  print(env.get_circuit())\n",
    "    #  break\n",
    "\n",
    "# Always print circuit\n",
    "print(env.get_circuit())\n",
    "env.close()"
   ]
  },
  {
   "cell_type": "code",
   "execution_count": null,
   "metadata": {},
   "outputs": [],
   "source": []
  }
 ],
 "metadata": {
  "colab": {
   "authorship_tag": "ABX9TyMFHJEJYmYx7UhmKZ53EJSg",
   "include_colab_link": true,
   "provenance": []
  },
  "kernelspec": {
   "display_name": "Python 3 (ipykernel)",
   "language": "python",
   "name": "python3"
  },
  "language_info": {
   "codemirror_mode": {
    "name": "ipython",
    "version": 3
   },
   "file_extension": ".py",
   "mimetype": "text/x-python",
   "name": "python",
   "nbconvert_exporter": "python",
   "pygments_lexer": "ipython3",
   "version": "3.11.3"
  }
 },
 "nbformat": 4,
 "nbformat_minor": 4
}

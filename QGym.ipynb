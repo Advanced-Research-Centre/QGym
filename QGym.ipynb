{
 "cells": [
  {
   "cell_type": "code",
   "execution_count": 2,
   "id": "5f174004-b999-440e-8ea8-215586f2788b",
   "metadata": {
    "tags": []
   },
   "outputs": [],
   "source": [
    "import gymnasium as gym\n",
    "from gymnasium import spaces\n",
    "from gymnasium.utils import seeding\n",
    "import qiskit\n",
    "from qiskit.circuit.library import StatePreparation\n",
    "from qiskit import QuantumRegister, QuantumCircuit, Aer, transpile, ClassicalRegister\n",
    "from qiskit.circuit.library import XGate, YGate, ZGate, HGate, TGate, IGate, CXGate, CZGate, SwapGate, CYGate\n",
    "import numpy as np\n",
    "import matplotlib.pyplot as plt\n",
    "from qiskit.quantum_info import Statevector\n",
    "import random as rd"
   ]
  },
  {
   "cell_type": "code",
   "execution_count": 3,
   "id": "198afcb5-202e-4ff1-ac60-2c9c05e844b1",
   "metadata": {
    "tags": []
   },
   "outputs": [],
   "source": [
    "class QGym(gym.Env):\n",
    "    \n",
    "    def __init__(self, n_qubits=1):\n",
    "        \n",
    "        self.n_qubits = n_qubits\n",
    "\n",
    "        self.quant_reg = QuantumRegister(self.n_qubits)\n",
    "        self.quant_circuit = QuantumCircuit(self.quant_reg)\n",
    "        \n",
    "        self.quantum_gates = [\n",
    "            XGate(),\n",
    "            YGate(),\n",
    "            ZGate(),\n",
    "            IGate(),\n",
    "            HGate(),\n",
    "            TGate(),\n",
    "            CXGate(),\n",
    "            CZGate(),\n",
    "            CYGate(),\n",
    "            SwapGate()\n",
    "            ]\n",
    "        \n",
    "        self.n_gates = 0\n",
    "        \n",
    "        self.action_space = spaces.MultiDiscrete([len(self.quantum_gates), \n",
    "                                                                self.n_qubits, \n",
    "                                                                self.n_qubits])\n",
    "                                          \n",
    "        self.observation_space = spaces.Box(0.00, 1.00, (1, 1), dtype=np.float32)\n",
    "        \n",
    "        self.c0 = 1\n",
    "        self.c1 = -0.01\n",
    "    \n",
    "    def step(self, action):\n",
    "        \n",
    "        self.n_gates += 1\n",
    "        gate = self.quantum_gates[action[0]]\n",
    "        \n",
    "        if action[1] == action[2]:\n",
    "            action[2] == abs(action[1] - 1)\n",
    "        \n",
    "        if action[0] < 6:\n",
    "            qubit = action[1]%self.n_qubits\n",
    "            self.quant_circuit.append(gate, [qubit])\n",
    "            \n",
    "        else:\n",
    "            if action[1] == action[2]:\n",
    "                qubits = [action[1]%self.n_qubits, abs(action[1] - 1)%self.n_qubits]\n",
    "                \n",
    "            else:\n",
    "                qubits = [action[1]%self.n_qubits, action[2]%self.n_qubits]\n",
    "                \n",
    "            self.quant_circuit.append(gate, qargs = qubits, cargs = None)\n",
    "        \n",
    "            \n",
    "        sim = Aer.get_backend('statevector_simulator')\n",
    "        result = sim.run(self.quant_circuit, shots=1).result().get_statevector()\n",
    "        \n",
    "        self.n_gates += 1\n",
    "        \n",
    "        self.fidelity = Statevector(result).probabilities()[-1]\n",
    "        self.depth = self.quant_circuit.depth()\n",
    "        \n",
    "        observation = self.fidelity\n",
    "        reward = self.get_score()\n",
    "        terminated = False\n",
    "        truncated = False\n",
    "        info = {}\n",
    "        \n",
    "        if action[1] == action[2]:\n",
    "            return observation, reward, terminated, truncated, [action[0], action[1],\n",
    "                                                                     abs(action[1] - 1)]\n",
    "        \n",
    "        return observation, reward, terminated, truncated, [action[0], action[1],\n",
    "                                                                     action[2]]\n",
    "        \n",
    "    def get_score(self):\n",
    "        \n",
    "        score = self.c0*self.fidelity + self.c1*self.depth\n",
    "        return score\n",
    "    \n",
    "    \n",
    "    def reset(self):\n",
    "        \n",
    "        self.quant_reg = QuantumRegister(self.n_qubits)\n",
    "        self.quant_circuit = QuantumCircuit(self.quant_reg)\n",
    "    \n",
    "    def render(self):\n",
    "        \n",
    "        return self.quant_circuit.draw()\n",
    "           "
   ]
  },
  {
   "cell_type": "code",
   "execution_count": 4,
   "id": "1479d2fd-cf43-42c4-b825-935744662adf",
   "metadata": {
    "tags": []
   },
   "outputs": [],
   "source": [
    "from gymnasium.envs.registration import register\n",
    "register(\n",
    "    id='QGym-v0',\n",
    "    entry_point=QGym\n",
    ")\n",
    "env = gym.make('QGym-v0', n_qubits = 3)"
   ]
  },
  {
   "cell_type": "code",
   "execution_count": null,
   "id": "a1ee574d-7d5a-4be4-b924-88663219691e",
   "metadata": {
    "tags": []
   },
   "outputs": [],
   "source": [
    "env.reset()"
   ]
  },
  {
   "cell_type": "code",
   "execution_count": 6,
   "id": "627d0393-237d-4456-9b7c-0c3b1f7862d9",
   "metadata": {
    "tags": []
   },
   "outputs": [
    {
     "data": {
      "image/png": "[encoded data removed]",
      "text/plain": [
       "<Figure size 180.31x284.278 with 1 Axes>"
      ]
     },
     "execution_count": 6,
     "metadata": {},
     "output_type": "execute_result"
    }
   ],
   "source": [
    "env.render()"
   ]
  },
  {
   "cell_type": "code",
   "execution_count": 8,
   "id": "e20405bc-d769-4ba9-b282-e20cef00093e",
   "metadata": {
    "tags": []
   },
   "outputs": [
    {
     "name": "stdout",
     "output_type": "stream",
     "text": [
      "Action:[8, 1, 0] Reward:-0.01\n",
      "Action:[2, 1, 0] Reward:-0.02\n",
      "Action:[2, 1, 0] Reward:-0.03\n",
      "Action:[4, 0, 1] Reward:-0.03\n",
      "Action:[8, 2, 0] Reward:-0.03\n",
      "Action:[7, 0, 1] Reward:-0.04\n",
      "Action:[6, 2, 1] Reward:-0.05\n",
      "Action:[1, 0, 2] Reward:-0.05\n",
      "Action:[0, 2, 1] Reward:-0.06\n",
      "Action:[5, 0, 2] Reward:-0.06\n",
      "Action:[8, 2, 0] Reward:-0.07\n",
      "Action:[1, 1, 2] Reward:0.4299999999999999\n",
      "Action:[5, 1, 0] Reward:0.42999999999999977\n",
      "Action:[7, 2, 1] Reward:0.41999999999999976\n",
      "Action:[6, 1, 0] Reward:0.4099999999999999\n",
      "Action:[9, 0, 1] Reward:0.3999999999999999\n",
      "Action:[7, 2, 1] Reward:0.3899999999999999\n",
      "Action:[7, 2, 1] Reward:0.3799999999999999\n",
      "Action:[7, 2, 1] Reward:0.3699999999999999\n",
      "Action:[9, 1, 0] Reward:0.3599999999999999\n"
     ]
    },
    {
     "data": {
      "image/png": "[encoded data removed]",
      "text/plain": [
       "<Figure size 1476.28x284.278 with 1 Axes>"
      ]
     },
     "execution_count": 8,
     "metadata": {},
     "output_type": "execute_result"
    }
   ],
   "source": [
    "for i in range(20):\n",
    "    action = env.action_space.sample()\n",
    "    observation, reward, terminated, truncated, action = env.step(action)\n",
    "    print(f\"Action:{action} Reward:{reward}\")\n",
    "env.render()\n"
   ]
  }
 ],
 "metadata": {
  "kernelspec": {
   "display_name": "Python 3 (ipykernel)",
   "language": "python",
   "name": "python3"
  },
  "language_info": {
   "codemirror_mode": {
    "name": "ipython",
    "version": 3
   },
   "file_extension": ".py",
   "mimetype": "text/x-python",
   "name": "python",
   "nbconvert_exporter": "python",
   "pygments_lexer": "ipython3",
   "version": "3.10.8"
  },
  "widgets": {
   "application/vnd.jupyter.widget-state+json": {
    "state": {},
    "version_major": 2,
    "version_minor": 0
   }
  }
 },
 "nbformat": 4,
 "nbformat_minor": 5
}

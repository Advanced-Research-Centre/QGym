{
 "cells": [
  {
   "cell_type": "code",
   "execution_count": 1,
   "id": "ae491d0a",
   "metadata": {},
   "outputs": [],
   "source": [
    "import gymnasium\n",
    "import QGym"
   ]
  },
  {
   "cell_type": "code",
   "execution_count": 2,
   "id": "81510579",
   "metadata": {},
   "outputs": [],
   "source": [
    "env = gymnasium.make('QGym/Qiskit-v0', size=3)"
   ]
  },
  {
   "cell_type": "code",
   "execution_count": 3,
   "id": "5623d8ce",
   "metadata": {},
   "outputs": [
    {
     "name": "stderr",
     "output_type": "stream",
     "text": [
      "/home/kknopp/Documents/Work/QWorld/env/lib/python3.11/site-packages/gymnasium/utils/passive_env_checker.py:197: DeprecationWarning: \u001b[33mWARN: Current gymnasium version requires that `Env.reset` can be passed a `seed` instead of using `Env.seed` for resetting the environment random number generator.\u001b[0m\n",
      "  logger.deprecation(\n",
      "/home/kknopp/Documents/Work/QWorld/env/lib/python3.11/site-packages/gymnasium/utils/passive_env_checker.py:210: DeprecationWarning: \u001b[33mWARN: Current gymnasium version requires that `Env.reset` can be passed `options` to allow the environment initialisation to be passed additional information.\u001b[0m\n",
      "  logger.deprecation(\n",
      "/home/kknopp/Documents/Work/QWorld/env/lib/python3.11/site-packages/gymnasium/utils/passive_env_checker.py:160: UserWarning: \u001b[33mWARN: The obs returned by the `reset()` method was expecting a numpy array, actual type: <class 'list'>\u001b[0m\n",
      "  logger.warn(\n",
      "/home/kknopp/Documents/Work/QWorld/env/lib/python3.11/site-packages/gymnasium/spaces/box.py:230: UserWarning: \u001b[33mWARN: Casting input x to numpy array.\u001b[0m\n",
      "  gym.logger.warn(\"Casting input x to numpy array.\")\n",
      "/home/kknopp/Documents/Work/QWorld/env/lib/python3.11/site-packages/gymnasium/utils/passive_env_checker.py:188: UserWarning: \u001b[33mWARN: The obs returned by the `reset()` method is not within the observation space.\u001b[0m\n",
      "  logger.warn(f\"{pre} is not within the observation space.\")\n"
     ]
    }
   ],
   "source": [
    "observation, info = env.reset()"
   ]
  },
  {
   "cell_type": "code",
   "execution_count": 4,
   "id": "e289de4a",
   "metadata": {},
   "outputs": [
    {
     "data": {
      "text/plain": [
       "[1, 0, 0, 0, 0, 0, 0, 0]"
      ]
     },
     "execution_count": 4,
     "metadata": {},
     "output_type": "execute_result"
    }
   ],
   "source": [
    "observation"
   ]
  },
  {
   "cell_type": "code",
   "execution_count": 5,
   "id": "7813a816",
   "metadata": {},
   "outputs": [
    {
     "name": "stdout",
     "output_type": "stream",
     "text": [
      "[1. 0. 0. 0. 0. 0. 0. 0.] 0\n",
      "[1. 0. 0. 0. 0. 0. 0. 0.] 0\n",
      "[0. 0. 0. 0. 1. 0. 0. 0.] 0\n",
      "[0. 0. 0. 0. 1. 0. 0. 0.] 0\n",
      "[0. 0. 0. 0. 1. 0. 0. 0.] 0\n",
      "[0. 0. 0. 0. 1. 0. 0. 0.] 0\n",
      "[0. 0. 0. 0. 0. 1. 0. 0.] 0\n"
     ]
    },
    {
     "name": "stderr",
     "output_type": "stream",
     "text": [
      "/home/kknopp/Documents/Work/QWorld/env/lib/python3.11/site-packages/gymnasium/utils/passive_env_checker.py:188: UserWarning: \u001b[33mWARN: The obs returned by the `step()` method is not within the observation space.\u001b[0m\n",
      "  logger.warn(f\"{pre} is not within the observation space.\")\n"
     ]
    }
   ],
   "source": [
    "for _ in range(10):\n",
    "    action = env.action_space.sample()  # agent policy that uses the observation and info\n",
    "    observation, reward, terminated, truncated, info = env.step(action)\n",
    "\n",
    "    if terminated:\n",
    "        break\n",
    "    \n",
    "    print(observation, reward)\n",
    "\n",
    "env.close()"
   ]
  }
 ],
 "metadata": {
  "kernelspec": {
   "display_name": "Python 3 (ipykernel)",
   "language": "python",
   "name": "python3"
  },
  "language_info": {
   "codemirror_mode": {
    "name": "ipython",
    "version": 3
   },
   "file_extension": ".py",
   "mimetype": "text/x-python",
   "name": "python",
   "nbconvert_exporter": "python",
   "pygments_lexer": "ipython3",
   "version": "3.11.3"
  }
 },
 "nbformat": 4,
 "nbformat_minor": 5
}
